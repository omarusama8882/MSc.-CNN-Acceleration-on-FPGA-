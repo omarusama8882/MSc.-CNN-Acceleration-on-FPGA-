{
 "cells": [
  {
   "cell_type": "code",
   "execution_count": 5,
   "metadata": {},
   "outputs": [],
   "source": [
    "import os\n",
    "import shutil\n",
    "import random\n"
   ]
  },
  {
   "cell_type": "code",
   "execution_count": 4,
   "metadata": {},
   "outputs": [],
   "source": [
    "os.chdir('Dataset')\n",
    "os.mkdir('last')"
   ]
  },
  {
   "cell_type": "code",
   "execution_count": 5,
   "metadata": {},
   "outputs": [],
   "source": [
    "source_dir = 'train'\n",
    "dest_dir = 'last'\n",
    "all_dirs = [d for d in os.listdir(source_dir) if os.path.isdir(os.path.join(source_dir, d))]\n",
    "last_20_dirs = sorted(all_dirs)[-20:]\n",
    "\n",
    "# Move each of the last 20 directories to the destination directory\n",
    "for dir_name in last_20_dirs:\n",
    "    shutil.move(os.path.join(source_dir, dir_name), os.path.join(dest_dir, dir_name))"
   ]
  },
  {
   "cell_type": "code",
   "execution_count": 6,
   "metadata": {},
   "outputs": [],
   "source": [
    "source_dir = 'test'\n",
    "dest_dir = 'last'\n",
    "all_dirs = [d for d in os.listdir(source_dir) if os.path.isdir(os.path.join(source_dir, d))]\n",
    "last_20_dirs = sorted(all_dirs)[-20:]\n",
    "\n",
    "# Move each of the last 20 directories to the destination directory\n",
    "for dir_name in last_20_dirs:\n",
    "    shutil.move(os.path.join(source_dir, dir_name), os.path.join(dest_dir, dir_name))\n"
   ]
  },
  {
   "cell_type": "code",
   "execution_count": 8,
   "metadata": {},
   "outputs": [],
   "source": [
    "os.mkdir('validbinclasses')"
   ]
  },
  {
   "cell_type": "code",
   "execution_count": 9,
   "metadata": {},
   "outputs": [],
   "source": [
    "\n",
    "source_dir = 'valid'\n",
    "dest_dir = 'validbinclasses'\n",
    "all_dirs = [d for d in os.listdir(source_dir) if os.path.isdir(os.path.join(source_dir, d))]\n",
    "last_20_dirs = sorted(all_dirs)[-20:]\n",
    "\n",
    "# Move each of the last 20 directories to the destination directory\n",
    "for dir_name in last_20_dirs:\n",
    "    shutil.move(os.path.join(source_dir, dir_name), os.path.join(dest_dir, dir_name))"
   ]
  },
  {
   "cell_type": "code",
   "execution_count": 2,
   "metadata": {},
   "outputs": [
    {
     "name": "stdout",
     "output_type": "stream",
     "text": [
      "c:\\Users\\HP\\Documents\\GitHub\\CNN-ON-FPGA-MSc.-\\Training Model(Python)\n"
     ]
    }
   ],
   "source": [
    "print(os.getcwd())"
   ]
  },
  {
   "cell_type": "code",
   "execution_count": 3,
   "metadata": {},
   "outputs": [],
   "source": [
    "os.chdir('Dataset')"
   ]
  },
  {
   "cell_type": "code",
   "execution_count": 6,
   "metadata": {},
   "outputs": [],
   "source": [
    "for item in os.listdir('valid'):\n",
    "    item_path = os.path.join('valid', item)\n",
    "    valid_samples=random.sample(os.listdir(item_path),40)\n",
    "    \n",
    "    for j in valid_samples:\n",
    "        shutil.move(f'valid/{item}/{j}',f'bin/{item}')\n",
    "    "
   ]
  },
  {
   "cell_type": "code",
   "execution_count": 7,
   "metadata": {},
   "outputs": [],
   "source": [
    "for item in os.listdir('test'):\n",
    "    item_path = os.path.join('test', item)\n",
    "    valid_samples=random.sample(os.listdir(item_path),50)\n",
    "    \n",
    "    for j in valid_samples:\n",
    "        shutil.move(f'test/{item}/{j}',f'bin/{item}')"
   ]
  }
 ],
 "metadata": {
  "kernelspec": {
   "display_name": "Python 3",
   "language": "python",
   "name": "python3"
  },
  "language_info": {
   "codemirror_mode": {
    "name": "ipython",
    "version": 3
   },
   "file_extension": ".py",
   "mimetype": "text/x-python",
   "name": "python",
   "nbconvert_exporter": "python",
   "pygments_lexer": "ipython3",
   "version": "3.12.3"
  }
 },
 "nbformat": 4,
 "nbformat_minor": 2
}
