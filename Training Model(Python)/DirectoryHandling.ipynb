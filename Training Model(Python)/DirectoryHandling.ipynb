{
 "cells": [
  {
   "cell_type": "code",
   "execution_count": 1,
   "metadata": {},
   "outputs": [],
   "source": [
    "import os\n",
    "import shutil\n",
    "import random\n"
   ]
  },
  {
   "cell_type": "code",
   "execution_count": 2,
   "metadata": {},
   "outputs": [],
   "source": [
    "os.chdir('Dataset')\n"
   ]
  },
  {
   "cell_type": "code",
   "execution_count": 3,
   "metadata": {},
   "outputs": [],
   "source": [
    "for item in os.listdir('train'):\n",
    "    item_path = os.path.join('train', item)\n",
    "    test_samples=random.sample(os.listdir(item_path),40)\n",
    "    \n",
    "    for j in test_samples:\n",
    "        shutil.move(f'train/{item}/{j}',f'test/{item}')"
   ]
  },
  {
   "cell_type": "code",
   "execution_count": 4,
   "metadata": {},
   "outputs": [],
   "source": [
    "os.mkdir('valid')"
   ]
  },
  {
   "cell_type": "code",
   "execution_count": 5,
   "metadata": {},
   "outputs": [],
   "source": [
    "for item in os.listdir('test'):\n",
    "    item_path = os.path.join('test', item)\n",
    "    valid_samples=random.sample(os.listdir(item_path),40)\n",
    "    os.mkdir(f'valid/{item}')\n",
    "    for j in valid_samples:\n",
    "        shutil.move(f'test/{item}/{j}',f'valid/{item}')"
   ]
  }
 ],
 "metadata": {
  "kernelspec": {
   "display_name": "Python 3",
   "language": "python",
   "name": "python3"
  },
  "language_info": {
   "codemirror_mode": {
    "name": "ipython",
    "version": 3
   },
   "file_extension": ".py",
   "mimetype": "text/x-python",
   "name": "python",
   "nbconvert_exporter": "python",
   "pygments_lexer": "ipython3",
   "version": "3.12.3"
  }
 },
 "nbformat": 4,
 "nbformat_minor": 2
}
