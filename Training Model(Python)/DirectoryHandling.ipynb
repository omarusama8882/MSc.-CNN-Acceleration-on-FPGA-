{
 "cells": [
  {
   "cell_type": "code",
   "execution_count": 1,
   "metadata": {},
   "outputs": [],
   "source": [
    "import os\n",
    "import shutil\n",
    "import random\n"
   ]
  },
  {
   "cell_type": "code",
   "execution_count": 2,
   "metadata": {},
   "outputs": [],
   "source": [
    "os.chdir('Dataset')\n"
   ]
  },
  {
   "cell_type": "code",
   "execution_count": 3,
   "metadata": {},
   "outputs": [
    {
     "ename": "KeyboardInterrupt",
     "evalue": "",
     "output_type": "error",
     "traceback": [
      "\u001b[1;31m---------------------------------------------------------------------------\u001b[0m",
      "\u001b[1;31mKeyboardInterrupt\u001b[0m                         Traceback (most recent call last)",
      "Cell \u001b[1;32mIn[3], line 6\u001b[0m\n\u001b[0;32m      3\u001b[0m test_samples\u001b[38;5;241m=\u001b[39mrandom\u001b[38;5;241m.\u001b[39msample(os\u001b[38;5;241m.\u001b[39mlistdir(item_path),\u001b[38;5;241m40\u001b[39m)\n\u001b[0;32m      5\u001b[0m \u001b[38;5;28;01mfor\u001b[39;00m j \u001b[38;5;129;01min\u001b[39;00m test_samples:\n\u001b[1;32m----> 6\u001b[0m     \u001b[43mshutil\u001b[49m\u001b[38;5;241;43m.\u001b[39;49m\u001b[43mmove\u001b[49m\u001b[43m(\u001b[49m\u001b[38;5;124;43mf\u001b[39;49m\u001b[38;5;124;43m'\u001b[39;49m\u001b[38;5;124;43mtrain/\u001b[39;49m\u001b[38;5;132;43;01m{\u001b[39;49;00m\u001b[43mitem\u001b[49m\u001b[38;5;132;43;01m}\u001b[39;49;00m\u001b[38;5;124;43m/\u001b[39;49m\u001b[38;5;132;43;01m{\u001b[39;49;00m\u001b[43mj\u001b[49m\u001b[38;5;132;43;01m}\u001b[39;49;00m\u001b[38;5;124;43m'\u001b[39;49m\u001b[43m,\u001b[49m\u001b[38;5;124;43mf\u001b[39;49m\u001b[38;5;124;43m'\u001b[39;49m\u001b[38;5;124;43mtest/\u001b[39;49m\u001b[38;5;132;43;01m{\u001b[39;49;00m\u001b[43mitem\u001b[49m\u001b[38;5;132;43;01m}\u001b[39;49;00m\u001b[38;5;124;43m'\u001b[39;49m\u001b[43m)\u001b[49m\n",
      "File \u001b[1;32mc:\\Users\\HP\\Documents\\Lib\\shutil.py:886\u001b[0m, in \u001b[0;36mmove\u001b[1;34m(src, dst, copy_function)\u001b[0m\n\u001b[0;32m    884\u001b[0m         \u001b[38;5;28;01mraise\u001b[39;00m Error(\u001b[38;5;124m\"\u001b[39m\u001b[38;5;124mDestination path \u001b[39m\u001b[38;5;124m'\u001b[39m\u001b[38;5;132;01m%s\u001b[39;00m\u001b[38;5;124m'\u001b[39m\u001b[38;5;124m already exists\u001b[39m\u001b[38;5;124m\"\u001b[39m \u001b[38;5;241m%\u001b[39m real_dst)\n\u001b[0;32m    885\u001b[0m \u001b[38;5;28;01mtry\u001b[39;00m:\n\u001b[1;32m--> 886\u001b[0m     \u001b[43mos\u001b[49m\u001b[38;5;241;43m.\u001b[39;49m\u001b[43mrename\u001b[49m\u001b[43m(\u001b[49m\u001b[43msrc\u001b[49m\u001b[43m,\u001b[49m\u001b[43m \u001b[49m\u001b[43mreal_dst\u001b[49m\u001b[43m)\u001b[49m\n\u001b[0;32m    887\u001b[0m \u001b[38;5;28;01mexcept\u001b[39;00m \u001b[38;5;167;01mOSError\u001b[39;00m:\n\u001b[0;32m    888\u001b[0m     \u001b[38;5;28;01mif\u001b[39;00m os\u001b[38;5;241m.\u001b[39mpath\u001b[38;5;241m.\u001b[39mislink(src):\n",
      "\u001b[1;31mKeyboardInterrupt\u001b[0m: "
     ]
    }
   ],
   "source": [
    "for item in os.listdir('test'):\n",
    "    item_path = os.path.join('test', item)\n",
    "    test_samples=random.sample(os.listdir(item_path),40)\n",
    "    \n",
    "    for j in test_samples:\n",
    "        shutil.move(f'train/{item}/{j}',f'test/{item}')"
   ]
  },
  {
   "cell_type": "code",
   "execution_count": 4,
   "metadata": {},
   "outputs": [],
   "source": [
    "os.mkdir('valid')"
   ]
  },
  {
   "cell_type": "code",
   "execution_count": 5,
   "metadata": {},
   "outputs": [],
   "source": [
    "for item in os.listdir('test'):\n",
    "    item_path = os.path.join('test', item)\n",
    "    valid_samples=random.sample(os.listdir(item_path),40)\n",
    "    os.mkdir(f'valid/{item}')\n",
    "    for j in valid_samples:\n",
    "        shutil.move(f'test/{item}/{j}',f'valid/{item}')"
   ]
  },
  {
   "cell_type": "code",
   "execution_count": 3,
   "metadata": {},
   "outputs": [],
   "source": [
    "os.mkdir('bin')"
   ]
  },
  {
   "cell_type": "code",
   "execution_count": 4,
   "metadata": {},
   "outputs": [],
   "source": [
    "for item in os.listdir('train'):\n",
    "    item_path = os.path.join('train', item)\n",
    "    test_samples=random.sample(os.listdir(item_path),160)\n",
    "    os.mkdir(f'bin/{item}')\n",
    "    for j in test_samples:\n",
    "        shutil.move(f'train/{item}/{j}',f'bin/{item}')"
   ]
  },
  {
   "cell_type": "code",
   "execution_count": 2,
   "metadata": {},
   "outputs": [],
   "source": [
    "os.chdir('UCMerced_LandUse')"
   ]
  },
  {
   "cell_type": "code",
   "execution_count": 3,
   "metadata": {},
   "outputs": [],
   "source": [
    "os.mkdir('valid')\n",
    "os.mkdir('test')"
   ]
  },
  {
   "cell_type": "code",
   "execution_count": 4,
   "metadata": {},
   "outputs": [],
   "source": [
    "for item in os.listdir('train'):\n",
    "    item_path = os.path.join('train', item)\n",
    "    test_samples=random.sample(os.listdir(item_path),10)\n",
    "    os.mkdir(f'test/{item}')\n",
    "    for j in test_samples:\n",
    "        shutil.move(f'train/{item}/{j}',f'test/{item}')"
   ]
  },
  {
   "cell_type": "code",
   "execution_count": 6,
   "metadata": {},
   "outputs": [],
   "source": [
    "for item in os.listdir('train'):\n",
    "    item_path = os.path.join('train', item)\n",
    "    valid_samples=random.sample(os.listdir(item_path),10)\n",
    "    os.mkdir(f'valid/{item}')\n",
    "    for j in valid_samples:\n",
    "        shutil.move(f'train/{item}/{j}',f'valid/{item}')"
   ]
  },
  {
   "cell_type": "code",
   "execution_count": 12,
   "metadata": {},
   "outputs": [
    {
     "name": "stdout",
     "output_type": "stream",
     "text": [
      "There are 400 files in the airplane directory.\n",
      "There are 400 files in the airport directory.\n",
      "There are 400 files in the baseball_diamond directory.\n",
      "There are 400 files in the basketball_court directory.\n",
      "There are 400 files in the beach directory.\n",
      "There are 400 files in the bridge directory.\n",
      "There are 400 files in the chaparral directory.\n",
      "There are 400 files in the church directory.\n",
      "There are 400 files in the circular_farmland directory.\n",
      "There are 400 files in the cloud directory.\n",
      "There are 400 files in the commercial_area directory.\n",
      "There are 400 files in the dense_residential directory.\n",
      "There are 400 files in the desert directory.\n",
      "There are 400 files in the forest directory.\n",
      "There are 400 files in the freeway directory.\n",
      "There are 400 files in the golf_course directory.\n",
      "There are 400 files in the ground_track_field directory.\n",
      "There are 400 files in the harbor directory.\n",
      "There are 400 files in the industrial_area directory.\n",
      "There are 400 files in the intersection directory.\n",
      "There are 400 files in the island directory.\n",
      "There are 400 files in the lake directory.\n",
      "There are 400 files in the meadow directory.\n",
      "There are 400 files in the medium_residential directory.\n",
      "There are 400 files in the mobile_home_park directory.\n",
      "There are 400 files in the mountain directory.\n",
      "There are 400 files in the overpass directory.\n",
      "There are 400 files in the palace directory.\n",
      "There are 400 files in the parking_lot directory.\n",
      "There are 400 files in the railway directory.\n",
      "There are 400 files in the railway_station directory.\n",
      "There are 400 files in the rectangular_farmland directory.\n",
      "There are 400 files in the river directory.\n",
      "There are 400 files in the roundabout directory.\n",
      "There are 400 files in the runway directory.\n",
      "There are 400 files in the sea_ice directory.\n",
      "There are 400 files in the ship directory.\n",
      "There are 400 files in the snowberg directory.\n",
      "There are 400 files in the sparse_residential directory.\n",
      "There are 400 files in the stadium directory.\n",
      "There are 400 files in the storage_tank directory.\n",
      "There are 393 files in the tennis_court directory.\n",
      "There are 400 files in the terrace directory.\n",
      "There are 400 files in the thermal_power_station directory.\n",
      "There are 2040 files in the wetland directory.\n"
     ]
    }
   ],
   "source": [
    "for item in os.listdir('train'):\n",
    "    item_path = os.path.join('train', item)\n",
    "    file_list = os.listdir(item_path)\n",
    "    file_count = len([file for file in file_list if os.path.isfile(os.path.join(item_path, file))])\n",
    "    print(f'There are {file_count} files in the {item} directory.')\n",
    "\n",
    "\n",
    "\n"
   ]
  },
  {
   "cell_type": "code",
   "execution_count": 5,
   "metadata": {},
   "outputs": [],
   "source": [
    "directories = [d for d in os.listdir('train') if os.path.isdir(os.path.join('train', d))]\n"
   ]
  },
  {
   "cell_type": "code",
   "execution_count": 6,
   "metadata": {},
   "outputs": [
    {
     "data": {
      "text/plain": [
       "['airplane',\n",
       " 'airport',\n",
       " 'baseball_diamond',\n",
       " 'basketball_court',\n",
       " 'beach',\n",
       " 'bridge',\n",
       " 'chaparral',\n",
       " 'church',\n",
       " 'circular_farmland',\n",
       " 'cloud',\n",
       " 'commercial_area',\n",
       " 'dense_residential',\n",
       " 'desert',\n",
       " 'forest',\n",
       " 'freeway',\n",
       " 'golf_course',\n",
       " 'ground_track_field',\n",
       " 'harbor',\n",
       " 'industrial_area',\n",
       " 'intersection',\n",
       " 'island',\n",
       " 'lake',\n",
       " 'meadow',\n",
       " 'medium_residential',\n",
       " 'mobile_home_park',\n",
       " 'mountain',\n",
       " 'overpass',\n",
       " 'palace',\n",
       " 'parking_lot',\n",
       " 'railway',\n",
       " 'railway_station',\n",
       " 'rectangular_farmland',\n",
       " 'river',\n",
       " 'roundabout',\n",
       " 'runway',\n",
       " 'sea_ice',\n",
       " 'ship',\n",
       " 'snowberg',\n",
       " 'sparse_residential',\n",
       " 'stadium',\n",
       " 'storage_tank',\n",
       " 'tennis_court',\n",
       " 'terrace',\n",
       " 'thermal_power_station',\n",
       " 'wetland']"
      ]
     },
     "execution_count": 6,
     "metadata": {},
     "output_type": "execute_result"
    }
   ],
   "source": [
    "directories"
   ]
  },
  {
   "cell_type": "code",
   "execution_count": 10,
   "metadata": {},
   "outputs": [],
   "source": [
    "for directory in directories[:-4]:\n",
    "    item_path = os.path.join('test', directory)\n",
    "    valid_samples=random.sample(os.listdir(item_path),80)\n",
    "    for j in valid_samples:\n",
    "        shutil.move(f'test/{directory}/{j}',f'train/{directory}')\n"
   ]
  },
  {
   "cell_type": "code",
   "execution_count": 2,
   "metadata": {},
   "outputs": [],
   "source": [
    "os.chdir('Air Dataset')"
   ]
  },
  {
   "cell_type": "code",
   "execution_count": 3,
   "metadata": {},
   "outputs": [],
   "source": [
    "os.mkdir('airplane')\n",
    "os.mkdir('noairplane')"
   ]
  },
  {
   "cell_type": "code",
   "execution_count": 4,
   "metadata": {},
   "outputs": [],
   "source": [
    "os.chdir('..')"
   ]
  },
  {
   "cell_type": "code",
   "execution_count": 5,
   "metadata": {},
   "outputs": [
    {
     "data": {
      "text/plain": [
       "'c:\\\\Users\\\\HP\\\\Documents\\\\GitHub\\\\CNN-ON-FPGA-MSc.-\\\\Training Model(Python)'"
      ]
     },
     "execution_count": 5,
     "metadata": {},
     "output_type": "execute_result"
    }
   ],
   "source": [
    "os.getcwd()"
   ]
  },
  {
   "cell_type": "code",
   "execution_count": 8,
   "metadata": {},
   "outputs": [],
   "source": [
    "directories=['airport']\n",
    "for directory in directories:\n",
    "    train_path=os.path.join('Dataset/train',directory)\n",
    "    test_path=os.path.join('Dataset/test',directory)\n",
    "    valid_path=os.path.join('Dataset/valid',directory)\n",
    "    bin_path=os.path.join('Dataset/bin',directory)\n",
    "    for i in os.listdir(train_path):\n",
    "            shutil.copy(f'{train_path}/{i}',f'Air Dataset/{directory}')\n",
    "    for i in os.listdir(test_path):\n",
    "            shutil.copy(f'{test_path}/{i}',f'Air Dataset/{directory}') \n",
    "    for i in os.listdir(valid_path):\n",
    "            shutil.copy(f'{valid_path}/{i}',f'Air Dataset/{directory}') \n",
    "    for i in os.listdir(bin_path):\n",
    "            shutil.copy(f'{bin_path}/{i}',f'Air Dataset/{directory}') "
   ]
  },
  {
   "cell_type": "code",
   "execution_count": 3,
   "metadata": {},
   "outputs": [],
   "source": [
    "src1Noship=os.listdir('MASATI-v2/water')\n",
    "src2Noship=os.listdir('MASATI-v2/coast')"
   ]
  },
  {
   "cell_type": "code",
   "execution_count": 4,
   "metadata": {},
   "outputs": [],
   "source": [
    "for img in src1Noship[:350]:\n",
    "    shutil.copy(f'MASATI-v2/water/{img}','Air Dataset/noship')"
   ]
  },
  {
   "cell_type": "code",
   "execution_count": 5,
   "metadata": {},
   "outputs": [],
   "source": [
    "for img in src2Noship[:350]:\n",
    "    shutil.copy(f'MASATI-v2/coast/{img}','Air Dataset/noship')"
   ]
  },
  {
   "cell_type": "code",
   "execution_count": 6,
   "metadata": {},
   "outputs": [],
   "source": [
    "src1ship=os.listdir('MASATI-v2/detail')\n",
    "src2ship=os.listdir('MASATI-v2/multi')\n"
   ]
  },
  {
   "cell_type": "code",
   "execution_count": 7,
   "metadata": {},
   "outputs": [],
   "source": [
    "for img in src1ship[:350]:\n",
    "    shutil.copy(f'MASATI-v2/detail/{img}','Air Dataset/ship')\n",
    "for img in src2ship[:350]:\n",
    "    shutil.copy(f'MASATI-v2/multi/{img}','Air Dataset/ship')"
   ]
  },
  {
   "cell_type": "code",
   "execution_count": 9,
   "metadata": {},
   "outputs": [],
   "source": [
    "from PIL import Image\n",
    "import tensorflow as tf\n",
    "\n",
    "for i in os.listdir('Air Dataset/airport'):\n",
    "        image = tf.io.read_file(f'Air Dataset/airport/{i}')\n",
    "        image = tf.image.decode_image(image)\n",
    "\n",
    "        resized_image = tf.image.resize(image, [512, 512])\n",
    "        encoded_image = tf.image.encode_jpeg(tf.cast(resized_image, tf.uint8))\n",
    "        tf.io.write_file(f'Air Dataset/airportr/{i}', encoded_image)\n",
    "for i in os.listdir('Air Dataset/airplane'):\n",
    "        image = tf.io.read_file(f'Air Dataset/airplane/{i}')\n",
    "        image = tf.image.decode_image(image)\n",
    "\n",
    "        resized_image = tf.image.resize(image, [512, 512])\n",
    "        encoded_image = tf.image.encode_jpeg(tf.cast(resized_image, tf.uint8))\n",
    "        tf.io.write_file(f'Air Dataset/airplaner/{i}', encoded_image)\n",
    "\n",
    "\n",
    "        \n",
    "    "
   ]
  },
  {
   "cell_type": "code",
   "execution_count": 12,
   "metadata": {},
   "outputs": [],
   "source": [
    "train_samples=random.sample(os.listdir('Air Dataset/airplaner'),560)\n",
    "for i in train_samples:\n",
    "    shutil.move(f'Air Dataset/airplaner/{i}','Air Dataset/train/airplane')"
   ]
  },
  {
   "cell_type": "code",
   "execution_count": 14,
   "metadata": {},
   "outputs": [],
   "source": [
    "valid_samples=random.sample(os.listdir('Air Dataset/airplaner'),30)\n",
    "for i in valid_samples:\n",
    "    shutil.move(f'Air Dataset/airplaner/{i}','Air Dataset/valid/airplane')\n"
   ]
  },
  {
   "cell_type": "code",
   "execution_count": 15,
   "metadata": {},
   "outputs": [],
   "source": [
    "test_samples=random.sample(os.listdir('Air Dataset/airplaner'),30)\n",
    "for i in test_samples:\n",
    "    shutil.move(f'Air Dataset/airplaner/{i}','Air Dataset/test/airplane')\n"
   ]
  },
  {
   "cell_type": "code",
   "execution_count": 18,
   "metadata": {},
   "outputs": [],
   "source": [
    "\n",
    "train_samples=random.sample(os.listdir('Air Dataset/airportr'),560)\n",
    "for i in train_samples:\n",
    "    shutil.move(f'Air Dataset/airportr/{i}','Air Dataset/train/airplane')\n",
    "valid_samples=random.sample(os.listdir('Air Dataset/airportr'),30)\n",
    "for i in valid_samples:\n",
    "    shutil.move(f'Air Dataset/airportr/{i}','Air Dataset/valid/airplane')\n",
    "test_samples=random.sample(os.listdir('Air Dataset/airportr'),30)\n",
    "for i in test_samples:\n",
    "    shutil.move(f'Air Dataset/airportr/{i}','Air Dataset/test/airplane')\n"
   ]
  },
  {
   "cell_type": "code",
   "execution_count": 19,
   "metadata": {},
   "outputs": [],
   "source": [
    "os.mkdir('Air Dataset/train/ship')\n",
    "os.mkdir('Air Dataset/test/ship')\n",
    "os.mkdir('Air Dataset/valid/ship')\n"
   ]
  },
  {
   "cell_type": "code",
   "execution_count": 22,
   "metadata": {},
   "outputs": [],
   "source": [
    "train_samples=random.sample(os.listdir('Air Dataset/ship'),560)\n",
    "for i in train_samples:\n",
    "    shutil.move(f'Air Dataset/ship/{i}','Air Dataset/train/ship')\n",
    "valid_samples=random.sample(os.listdir('Air Dataset/ship'),30)\n",
    "for i in valid_samples:\n",
    "    shutil.move(f'Air Dataset/ship/{i}','Air Dataset/valid/ship')\n",
    "test_samples=random.sample(os.listdir('Air Dataset/ship'),30)\n",
    "for i in test_samples:\n",
    "    shutil.move(f'Air Dataset/ship/{i}','Air Dataset/test/ship')\n"
   ]
  },
  {
   "cell_type": "code",
   "execution_count": 23,
   "metadata": {},
   "outputs": [],
   "source": [
    "os.mkdir('Air Dataset/train/noship')\n",
    "os.mkdir('Air Dataset/test/noship')\n",
    "os.mkdir('Air Dataset/valid/noship')\n"
   ]
  },
  {
   "cell_type": "code",
   "execution_count": 26,
   "metadata": {},
   "outputs": [],
   "source": [
    "train_samples=random.sample(os.listdir('Air Dataset/noship'),560)\n",
    "for i in train_samples:\n",
    "    shutil.move(f'Air Dataset/noship/{i}','Air Dataset/train/noship')\n",
    "valid_samples=random.sample(os.listdir('Air Dataset/noship'),30)\n",
    "for i in valid_samples:\n",
    "    shutil.move(f'Air Dataset/noship/{i}','Air Dataset/valid/noship')\n",
    "test_samples=random.sample(os.listdir('Air Dataset/noship'),30)\n",
    "for i in test_samples:\n",
    "    shutil.move(f'Air Dataset/noship/{i}','Air Dataset/test/noship')\n"
   ]
  },
  {
   "cell_type": "code",
   "execution_count": null,
   "metadata": {},
   "outputs": [],
   "source": []
  }
 ],
 "metadata": {
  "kernelspec": {
   "display_name": "Python 3",
   "language": "python",
   "name": "python3"
  },
  "language_info": {
   "codemirror_mode": {
    "name": "ipython",
    "version": 3
   },
   "file_extension": ".py",
   "mimetype": "text/x-python",
   "name": "python",
   "nbconvert_exporter": "python",
   "pygments_lexer": "ipython3",
   "version": "3.12.3"
  }
 },
 "nbformat": 4,
 "nbformat_minor": 2
}
