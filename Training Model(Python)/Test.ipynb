{
 "cells": [
  {
   "cell_type": "code",
   "execution_count": 1,
   "metadata": {},
   "outputs": [],
   "source": [
    "import numpy as np\n",
    "import math\n",
    "from QuantizedDense import Quantizeweights,bitshift,MatrixMul,MatrixBitShift\n",
    "import tensorflow as tf\n",
    "from keras.src import ops"
   ]
  },
  {
   "cell_type": "code",
   "execution_count": 11,
   "metadata": {},
   "outputs": [
    {
     "name": "stdout",
     "output_type": "stream",
     "text": [
      "1\n"
     ]
    }
   ],
   "source": [
    "x=str(-1)\n",
    "n=x[1:]\n",
    "y=int(n)\n",
    "print(y)\n"
   ]
  },
  {
   "cell_type": "code",
   "execution_count": 20,
   "metadata": {},
   "outputs": [
    {
     "data": {
      "text/plain": [
       "<tf.Tensor: shape=(9,), dtype=float32, numpy=\n",
       "array([ 0.00145299, -0.05128205,  0.01923077,  0.08547009,  0.42735043,\n",
       "       -0.44871795,  1.        , -0.18803419,  0.21367522], dtype=float32)>"
      ]
     },
     "execution_count": 20,
     "metadata": {},
     "output_type": "execute_result"
    }
   ],
   "source": [
    "x=tf.constant([0.0034,-0.12, 0.045, 0.2, 1, -1.05, 2.34, -0.44, 0.5])\n",
    "y=tf.reduce_max(x)\n",
    "c=x/y\n",
    "c"
   ]
  },
  {
   "cell_type": "code",
   "execution_count": 45,
   "metadata": {},
   "outputs": [],
   "source": [
    "def LQ(tensor, bitwidth):\n",
    "    # Create a mask for weights equal to 0\n",
    "    rounded_tensor=tf.where(tensor>0,tf.math.floor(tensor),tf.math.ceil(tensor))\n",
    "    mask_zero = tf.equal(rounded_tensor, 0)\n",
    "    epsilon = 1e-7\n",
    "\n",
    "    # Compute weight_log using log2\n",
    "    weight_log = tf.math.log(tf.math.abs(tensor)+epsilon) / tf.math.log(2.0)\n",
    "    print(weight_log)\n",
    "    weight_log=tf.where(weight_log<0,tf.math.ceil(weight_log),tf.math.floor(weight_log))\n",
    "    bit_pot = -2 ** bitwidth\n",
    "    mask_condition = weight_log >= bit_pot\n",
    "    \n",
    "    # Initialize the result tensor with zeros\n",
    "    result = tf.zeros_like(tensor, dtype=tf.float32)\n",
    "    \n",
    "    # Apply the condition where weight_log is valid\n",
    "    result = tf.where(mask_condition, tf.where(tensor > 0, tf.math.abs(weight_log), weight_log), result)\n",
    "    \n",
    "    return result\n",
    "\n"
   ]
  },
  {
   "cell_type": "code",
   "execution_count": 44,
   "metadata": {},
   "outputs": [
    {
     "name": "stdout",
     "output_type": "stream",
     "text": [
      "tf.Tensor(\n",
      "[-9.4266586e+00 -4.2853994e+00 -5.7004318e+00 -3.5484347e+00\n",
      " -1.2265083e+00 -1.1561189e+00  1.7198263e-07 -2.4109323e+00\n",
      " -2.2265079e+00], shape=(9,), dtype=float32)\n"
     ]
    },
    {
     "data": {
      "text/plain": [
       "<tf.Tensor: shape=(9,), dtype=float32, numpy=array([ 9., -4.,  5.,  3.,  1., -1.,  0., -2.,  2.], dtype=float32)>"
      ]
     },
     "execution_count": 44,
     "metadata": {},
     "output_type": "execute_result"
    }
   ],
   "source": [
    "lq=LQ(c,4)\n",
    "lq\n"
   ]
  },
  {
   "cell_type": "code",
   "execution_count": 38,
   "metadata": {},
   "outputs": [
    {
     "data": {
      "text/plain": [
       "<tf.Tensor: shape=(), dtype=float32, numpy=-5.0>"
      ]
     },
     "execution_count": 38,
     "metadata": {},
     "output_type": "execute_result"
    }
   ],
   "source": [
    "tf.math.floor(-4.2854023)"
   ]
  }
 ],
 "metadata": {
  "kernelspec": {
   "display_name": "Python 3",
   "language": "python",
   "name": "python3"
  },
  "language_info": {
   "codemirror_mode": {
    "name": "ipython",
    "version": 3
   },
   "file_extension": ".py",
   "mimetype": "text/x-python",
   "name": "python",
   "nbconvert_exporter": "python",
   "pygments_lexer": "ipython3",
   "version": "3.12.3"
  }
 },
 "nbformat": 4,
 "nbformat_minor": 2
}
