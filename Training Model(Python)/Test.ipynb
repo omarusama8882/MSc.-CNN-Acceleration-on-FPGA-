{
 "cells": [
  {
   "cell_type": "code",
   "execution_count": 7,
   "metadata": {},
   "outputs": [],
   "source": [
    "import numpy as np\n",
    "import math\n",
    "import tensorflow as tf\n"
   ]
  },
  {
   "cell_type": "code",
   "execution_count": 11,
   "metadata": {},
   "outputs": [
    {
     "name": "stdout",
     "output_type": "stream",
     "text": [
      "1\n"
     ]
    }
   ],
   "source": [
    "x=str(-1)\n",
    "n=x[1:]\n",
    "y=int(n)\n",
    "print(y)\n"
   ]
  },
  {
   "cell_type": "code",
   "execution_count": 13,
   "metadata": {},
   "outputs": [
    {
     "data": {
      "text/plain": [
       "<tf.Tensor: shape=(2, 9), dtype=float32, numpy=\n",
       "array([[ 0.00145299, -0.05128205,  0.01923077,  0.08547009,  0.42735043,\n",
       "        -0.44871795,  1.        , -0.18803419,  0.21367522],\n",
       "       [ 0.00145299, -0.05128205,  0.01923077,  0.08547009,  0.42735043,\n",
       "        -0.44871795,  1.        , -0.18803419,  0.21367522]],\n",
       "      dtype=float32)>"
      ]
     },
     "execution_count": 13,
     "metadata": {},
     "output_type": "execute_result"
    }
   ],
   "source": [
    "x=tf.constant([[0.0034,-0.12, 0.045, 0.2, 1, -1.05, 2.34, -0.44, 0.5],[0.0034,-0.12, 0.045, 0.2, 1, -1.05, 2.34, -0.44, 0.5]])\n",
    "y=tf.reduce_max(x)\n",
    "c=x/y\n",
    "c"
   ]
  },
  {
   "cell_type": "code",
   "execution_count": 2,
   "metadata": {},
   "outputs": [
    {
     "data": {
      "text/plain": [
       "0.0044444444444444444"
      ]
     },
     "execution_count": 2,
     "metadata": {},
     "output_type": "execute_result"
    }
   ],
   "source": [
    "1/225\n"
   ]
  },
  {
   "cell_type": "code",
   "execution_count": 1,
   "metadata": {},
   "outputs": [],
   "source": [
    "def LQ(tensor, bitwidth):\n",
    "    # Create a mask for weights equal to 0\n",
    "    #rounded_tensor=tf.where(tensor>0,tf.my u4xdcvp]\n",
    "    # [6ath.floor(tensor),tf.math.ceil(tensor))\n",
    "    rounded_weights=tensor*100\n",
    "    rounded_weights=tf.where(rounded_weights>0,tf.math.floor(rounded_weights),tf.math.ceil(rounded_weights))\n",
    "    epsilon = 1e-7\n",
    "\n",
    "    # Compute weight_log using log2\n",
    "    weight_log = tf.math.log(tf.math.abs(tensor)+epsilon) / tf.math.log(2.0)\n",
    "    print(weight_log)\n",
    "    weight_log=tf.where(weight_log<0,tf.math.ceil(weight_log),tf.math.floor(weight_log))\n",
    "    bit_pot = -2 ** bitwidth\n",
    "    mask_condition = weight_log >= bit_pot\n",
    "    \n",
    "    # Initialize the result tensor with zeros\n",
    "    result = tf.zeros_like(tensor, dtype=tf.float32)\n",
    "    \n",
    "    # Apply the condition where weight_log is valid\n",
    "    result = tf.where(rounded_weights!=0,tf.where(mask_condition, tf.where(tensor > 0, tf.math.abs(weight_log), weight_log), result),result)\n",
    "    \n",
    "    return result\n",
    "\n"
   ]
  },
  {
   "cell_type": "code",
   "execution_count": 14,
   "metadata": {},
   "outputs": [
    {
     "name": "stdout",
     "output_type": "stream",
     "text": [
      "tf.Tensor(\n",
      "[[-9.4266586e+00 -4.2853994e+00 -5.7004318e+00 -3.5484347e+00\n",
      "  -1.2265083e+00 -1.1561189e+00  1.7198263e-07 -2.4109323e+00\n",
      "  -2.2265079e+00]\n",
      " [-9.4266586e+00 -4.2853994e+00 -5.7004318e+00 -3.5484347e+00\n",
      "  -1.2265083e+00 -1.1561189e+00  1.7198263e-07 -2.4109323e+00\n",
      "  -2.2265079e+00]], shape=(2, 9), dtype=float32)\n"
     ]
    },
    {
     "data": {
      "text/plain": [
       "<tf.Tensor: shape=(2, 9), dtype=float32, numpy=\n",
       "array([[ 0., -4.,  5.,  3.,  1., -1.,  0., -2.,  2.],\n",
       "       [ 0., -4.,  5.,  3.,  1., -1.,  0., -2.,  2.]], dtype=float32)>"
      ]
     },
     "execution_count": 14,
     "metadata": {},
     "output_type": "execute_result"
    }
   ],
   "source": [
    "lq=LQ(c,4)\n",
    "lq\n"
   ]
  },
  {
   "cell_type": "code",
   "execution_count": 9,
   "metadata": {},
   "outputs": [
    {
     "data": {
      "text/plain": [
       "<tf.Tensor: shape=(), dtype=int32, numpy=2>"
      ]
     },
     "execution_count": 9,
     "metadata": {},
     "output_type": "execute_result"
    }
   ],
   "source": [
    "tf.shape(c)[0]"
   ]
  },
  {
   "cell_type": "code",
   "execution_count": 4,
   "metadata": {},
   "outputs": [],
   "source": [
    "def bitshift(weight,shift):\n",
    "   res=0\n",
    "   if shift<0:\n",
    "       y=np.abs(shift)\n",
    "       res= weight>>shift\n",
    "   else:\n",
    "        res= weight<<shift\n",
    "   def grad(dy):\n",
    "       dw=2**shift*dy\n",
    "       ds=2**shift*weight*tf.math.log(2)*dy\n",
    "       return dw,ds\n",
    "   return res,grad"
   ]
  },
  {
   "cell_type": "code",
   "execution_count": 2,
   "metadata": {},
   "outputs": [],
   "source": [
    "def bitshift2(weight,shift):\n",
    "    if shift<0:\n",
    "       y=tf.math.abs(shift)\n",
    "       return tf.bitwise.right_shift(weight,shift)\n",
    "    else:\n",
    "       return tf.bitwise.left_shift(weight,shift)\n"
   ]
  },
  {
   "cell_type": "code",
   "execution_count": 3,
   "metadata": {},
   "outputs": [],
   "source": [
    "def MatrixBitShift(A,B):\n",
    "    A=tf.cast(A,tf.int32)\n",
    "    B=tf.cast(B,tf.int32)\n",
    "    columns2=tf.shape(B)[1]\n",
    "    rows2=tf.shape(B)[0]\n",
    "    rows1=tf.shape(A)[0]\n",
    "    C=tf.zeros(shape=(rows1,columns2),dtype=tf.int32)\n",
    "    for i in range(0,rows1):\n",
    "      for j in range(0,rows2):\n",
    "            for  k in range(0,columns2):\n",
    "                original=C[i][k]\n",
    "                a=A[i][j]\n",
    "                b=B[j][k]\n",
    "                x=bitshift2(a,b)\n",
    "                #print(x)\n",
    "                update=original+x\n",
    "                \n",
    "                index=tf.constant([[i,k]])\n",
    "                #u=tf.constant([update],dtype=tf.int32)\n",
    "                C=tf.tensor_scatter_nd_update(C,index,[update])\n",
    "    \n",
    "    return C\n",
    "    "
   ]
  },
  {
   "cell_type": "code",
   "execution_count": 6,
   "metadata": {},
   "outputs": [
    {
     "name": "stdout",
     "output_type": "stream",
     "text": [
      "tf.Tensor(\n",
      "[[14 14 14]\n",
      " [14 14 14]], shape=(2, 3), dtype=int32)\n"
     ]
    }
   ],
   "source": [
    "tensor = tf.constant([[1, 1, 2, 3],[1,1,2,3]])\n",
    "tens2=tf.constant([[1,1,1],[1,1,1],[1,1,1],[1,1,1]])\n",
    "C=MatrixBitShift(tensor,tens2)\n",
    "print(C)\n",
    "#print(tensor[0][1])"
   ]
  },
  {
   "cell_type": "code",
   "execution_count": 11,
   "metadata": {},
   "outputs": [],
   "source": [
    "def fixed_to_float(fixed_point_value, fractional_bits):\n",
    "    \"\"\"\n",
    "    Convert a fixed-point number to floating-point.\n",
    "    \n",
    "    Args:\n",
    "    fixed_point_value (int): The fixed-point value (signed or unsigned).\n",
    "    fractional_bits (int): The number of fractional bits.\n",
    "    \n",
    "    Returns:\n",
    "    float: The floating-point equivalent.\n",
    "    \"\"\"\n",
    "    # Divide by 2^fractional_bits to convert to floating point\n",
    "    float_value = fixed_point_value / (2 ** fractional_bits)\n",
    "    return float_value\n"
   ]
  },
  {
   "cell_type": "code",
   "execution_count": 12,
   "metadata": {},
   "outputs": [
    {
     "data": {
      "text/plain": [
       "-4.75"
      ]
     },
     "execution_count": 12,
     "metadata": {},
     "output_type": "execute_result"
    }
   ],
   "source": [
    "fixed_to_float(-1216,8)"
   ]
  },
  {
   "cell_type": "code",
   "execution_count": 4,
   "metadata": {},
   "outputs": [],
   "source": [
    "import os \n",
    "os.chdir(\"Air Dataset\")"
   ]
  },
  {
   "cell_type": "code",
   "execution_count": 6,
   "metadata": {},
   "outputs": [],
   "source": [
    "x=np.ones(1024, dtype=int)\n",
    "with open('dense_biases.txt', 'w') as cf:\n",
    "       np.savetxt(cf,x,delimiter=\" \",fmt=\"%d\")\n"
   ]
  },
  {
   "cell_type": "code",
   "execution_count": 15,
   "metadata": {},
   "outputs": [
    {
     "name": "stdout",
     "output_type": "stream",
     "text": [
      "0000010011000000\n",
      "-111100000000000000\n"
     ]
    }
   ],
   "source": [
    "def fixed_point_to_binary(value, integer_bits=8, fractional_bits=8):\n",
    "    # Check if the input is within the range for a signed 16-bit fixed-point number\n",
    "    max_value = (1 << (integer_bits + fractional_bits - 1)) - 1  # Maximum positive value\n",
    "    min_value = -(1 << (integer_bits + fractional_bits - 1))     # Maximum negative value\n",
    "    \n",
    "    if not min_value <= value <= max_value:\n",
    "        raise ValueError(f\"Value must be between {min_value} and {max_value}\")\n",
    "\n",
    "    # Multiply by 2^fractional_bits to convert fractional part to an integer\n",
    "    scaled_value = round(value * (1 << fractional_bits))\n",
    "\n",
    "    # If the value is negative, convert it to two's complement representation\n",
    "    if scaled_value < 0:\n",
    "        scaled_value = (1 << (integer_bits + fractional_bits)) + scaled_value\n",
    "\n",
    "    # Convert to binary and format as a 16-bit binary number\n",
    "    binary_rep = format(scaled_value, f'0{integer_bits + fractional_bits}b')\n",
    "\n",
    "    return binary_rep\n",
    "\n",
    "# Example usage:\n",
    "print(fixed_point_to_binary(4.75))   # Output: '0000010011000000' (binary representation of 4.75 in Q8.8)\n",
    "print(fixed_point_to_binary())  # Output: '1111101101000000' (two's complement binary of -4.75 in Q8.8)\n"
   ]
  },
  {
   "cell_type": "code",
   "execution_count": null,
   "metadata": {},
   "outputs": [],
   "source": []
  },
  {
   "cell_type": "code",
   "execution_count": 8,
   "metadata": {},
   "outputs": [],
   "source": [
    "def float32_to_fixed16(value, fractional_bits=8):\n",
    "    # Scale by 2^fractional_bits\n",
    "    scaled_value = value * (2 ** fractional_bits)\n",
    "    \n",
    "    # Round to the nearest integer\n",
    "    fixed_value = np.round(scaled_value).astype(np.int16)\n",
    "    \n",
    "    # Handle overflow (for 16-bit signed integers)\n",
    "    #max_val = 2**15 - 1\n",
    "    #min_val = -2**15\n",
    "    #fixed_value = np.clip(fixed_value, min_val, max_val)\n",
    "    \n",
    "    return fixed_value\n"
   ]
  },
  {
   "cell_type": "code",
   "execution_count": 9,
   "metadata": {},
   "outputs": [
    {
     "data": {
      "text/plain": [
       "-1216"
      ]
     },
     "execution_count": 9,
     "metadata": {},
     "output_type": "execute_result"
    }
   ],
   "source": [
    "float32_to_fixed16(-4.75,8)"
   ]
  },
  {
   "cell_type": "code",
   "execution_count": 2,
   "metadata": {},
   "outputs": [
    {
     "name": "stdout",
     "output_type": "stream",
     "text": [
      "00000000001101001000000000000000\n",
      "111111111110100-10000000000000000\n"
     ]
    }
   ],
   "source": [
    "def float_to_custom_32bit(value):\n",
    "    # Separate the integer and fractional parts\n",
    "    integer_part = int(value)\n",
    "    fractional_part = value - integer_part\n",
    "\n",
    "    # Convert integer part to binary (13 bits)\n",
    "    if integer_part >= 2**13 or integer_part < -(2**13):\n",
    "        raise ValueError(\"Integer part is out of 13-bit range\")\n",
    "    int_bin = format(integer_part & ((1 << 13) - 1), '013b')\n",
    "\n",
    "    # Convert fractional part to binary (19 bits)\n",
    "    frac_bin = ''\n",
    "    fraction = fractional_part\n",
    "    for _ in range(19):\n",
    "        fraction *= 2\n",
    "        bit = int(fraction)\n",
    "        frac_bin += str(bit)\n",
    "        fraction -= bit\n",
    "\n",
    "    # Concatenate the integer and fractional parts\n",
    "    custom_32bit_binary = int_bin + frac_bin\n",
    "\n",
    "    return custom_32bit_binary\n",
    "\n",
    "# Test the function\n",
    "print(float_to_custom_32bit(6.5625))     # Output: '0000000000101001100000000000000'\n",
    "print(float_to_custom_32bit(-3.125))   # Output: '1111111111101000000000000000000'\n",
    "\n"
   ]
  },
  {
   "cell_type": "code",
   "execution_count": 1,
   "metadata": {},
   "outputs": [
    {
     "name": "stdout",
     "output_type": "stream",
     "text": [
      "11111001\n",
      "11111111\n"
     ]
    }
   ],
   "source": [
    "def binary_to_twos_complement(binary_str):\n",
    "    # Check if the input is a valid binary string\n",
    "    if not all(bit in '01' for bit in binary_str):\n",
    "        raise ValueError(\"Input must be a binary string.\")\n",
    "    \n",
    "    # Find the number of bits\n",
    "    num_bits = len(binary_str)\n",
    "    \n",
    "    # Convert the binary string to an integer\n",
    "    value = int(binary_str, 2)\n",
    "    \n",
    "    # If the value is already negative (starts with '1'), just return the binary string\n",
    "    if binary_str[0] == '1':\n",
    "        return binary_str\n",
    "    \n",
    "    # Calculate the two's complement of the value by subtracting it from 2^num_bits\n",
    "    twos_complement_value = (1 << num_bits) - value\n",
    "    \n",
    "    # Convert the two's complement value back to binary, format with leading zeros, and return\n",
    "    return format(twos_complement_value, f'0{num_bits}b')\n",
    "\n",
    "# Example usage\n",
    "print(binary_to_twos_complement(\"00000111\"))  # Output: '11111001' (two's complement of 7)\n",
    "print(binary_to_twos_complement(\"00000001\"))  # Output: '11111111' (two's complement of 1)\n"
   ]
  },
  {
   "cell_type": "code",
   "execution_count": 2,
   "metadata": {},
   "outputs": [
    {
     "data": {
      "text/plain": [
       "'1111101101000000'"
      ]
     },
     "execution_count": 2,
     "metadata": {},
     "output_type": "execute_result"
    }
   ],
   "source": [
    "binary_to_twos_complement('0000010011000000')"
   ]
  },
  {
   "cell_type": "code",
   "execution_count": 17,
   "metadata": {},
   "outputs": [
    {
     "name": "stdout",
     "output_type": "stream",
     "text": [
      "00000111\n",
      "11111001\n",
      "1111101101000000\n"
     ]
    }
   ],
   "source": [
    "def int_to_twos_complement(value, num_bits):\n",
    "    # Check if the value fits within the specified number of bits\n",
    "    if not -(1 << (num_bits - 1)) <= value < (1 << (num_bits - 1)):\n",
    "        raise ValueError(f\"Value out of range for {num_bits}-bit representation.\")\n",
    "    \n",
    "    # If the value is negative, convert to two's complement by adding 2^num_bits\n",
    "    if value < 0:\n",
    "        value = (1 << num_bits) + value\n",
    "    \n",
    "    # Convert the value to binary and format to the specified number of bits\n",
    "    binary_rep = format(value, f'0{num_bits}b')\n",
    "    \n",
    "    return binary_rep\n",
    "\n",
    "# Example usage:\n",
    "print(int_to_twos_complement(7, 8))    # Output: '00000111' (7 in 8 bits)\n",
    "print(int_to_twos_complement(-7, 8))   # Output: '11111001' (-7 in 8 bits)\n",
    "print(int_to_twos_complement(-1216, 16))  # Output: '1111111111111001' (-7 in 16 bits)\n"
   ]
  },
  {
   "cell_type": "code",
   "execution_count": null,
   "metadata": {},
   "outputs": [],
   "source": []
  }
 ],
 "metadata": {
  "kernelspec": {
   "display_name": "Python 3",
   "language": "python",
   "name": "python3"
  },
  "language_info": {
   "codemirror_mode": {
    "name": "ipython",
    "version": 3
   },
   "file_extension": ".py",
   "mimetype": "text/x-python",
   "name": "python",
   "nbconvert_exporter": "python",
   "pygments_lexer": "ipython3",
   "version": "3.12.3"
  }
 },
 "nbformat": 4,
 "nbformat_minor": 2
}
