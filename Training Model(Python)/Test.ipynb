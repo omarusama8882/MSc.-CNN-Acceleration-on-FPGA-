{
 "cells": [
  {
   "cell_type": "code",
   "execution_count": 1,
   "metadata": {},
   "outputs": [],
   "source": [
    "import numpy as np\n",
    "import math\n",
    "import tensorflow as tf\n"
   ]
  },
  {
   "cell_type": "code",
   "execution_count": 11,
   "metadata": {},
   "outputs": [
    {
     "name": "stdout",
     "output_type": "stream",
     "text": [
      "1\n"
     ]
    }
   ],
   "source": [
    "x=str(-1)\n",
    "n=x[1:]\n",
    "y=int(n)\n",
    "print(y)\n"
   ]
  },
  {
   "cell_type": "code",
   "execution_count": 13,
   "metadata": {},
   "outputs": [
    {
     "data": {
      "text/plain": [
       "<tf.Tensor: shape=(2, 9), dtype=float32, numpy=\n",
       "array([[ 0.00145299, -0.05128205,  0.01923077,  0.08547009,  0.42735043,\n",
       "        -0.44871795,  1.        , -0.18803419,  0.21367522],\n",
       "       [ 0.00145299, -0.05128205,  0.01923077,  0.08547009,  0.42735043,\n",
       "        -0.44871795,  1.        , -0.18803419,  0.21367522]],\n",
       "      dtype=float32)>"
      ]
     },
     "execution_count": 13,
     "metadata": {},
     "output_type": "execute_result"
    }
   ],
   "source": [
    "x=tf.constant([[0.0034,-0.12, 0.045, 0.2, 1, -1.05, 2.34, -0.44, 0.5],[0.0034,-0.12, 0.045, 0.2, 1, -1.05, 2.34, -0.44, 0.5]])\n",
    "y=tf.reduce_max(x)\n",
    "c=x/y\n",
    "c"
   ]
  },
  {
   "cell_type": "code",
   "execution_count": 2,
   "metadata": {},
   "outputs": [
    {
     "data": {
      "text/plain": [
       "0.0044444444444444444"
      ]
     },
     "execution_count": 2,
     "metadata": {},
     "output_type": "execute_result"
    }
   ],
   "source": [
    "1/225\n"
   ]
  },
  {
   "cell_type": "code",
   "execution_count": 1,
   "metadata": {},
   "outputs": [],
   "source": [
    "def LQ(tensor, bitwidth):\n",
    "    # Create a mask for weights equal to 0\n",
    "    #rounded_tensor=tf.where(tensor>0,tf.my u4xdcvp]\n",
    "    # [6ath.floor(tensor),tf.math.ceil(tensor))\n",
    "    rounded_weights=tensor*100\n",
    "    rounded_weights=tf.where(rounded_weights>0,tf.math.floor(rounded_weights),tf.math.ceil(rounded_weights))\n",
    "    epsilon = 1e-7\n",
    "\n",
    "    # Compute weight_log using log2\n",
    "    weight_log = tf.math.log(tf.math.abs(tensor)+epsilon) / tf.math.log(2.0)\n",
    "    print(weight_log)\n",
    "    weight_log=tf.where(weight_log<0,tf.math.ceil(weight_log),tf.math.floor(weight_log))\n",
    "    bit_pot = -2 ** bitwidth\n",
    "    mask_condition = weight_log >= bit_pot\n",
    "    \n",
    "    # Initialize the result tensor with zeros\n",
    "    result = tf.zeros_like(tensor, dtype=tf.float32)\n",
    "    \n",
    "    # Apply the condition where weight_log is valid\n",
    "    result = tf.where(rounded_weights!=0,tf.where(mask_condition, tf.where(tensor > 0, tf.math.abs(weight_log), weight_log), result),result)\n",
    "    \n",
    "    return result\n",
    "\n"
   ]
  },
  {
   "cell_type": "code",
   "execution_count": 14,
   "metadata": {},
   "outputs": [
    {
     "name": "stdout",
     "output_type": "stream",
     "text": [
      "tf.Tensor(\n",
      "[[-9.4266586e+00 -4.2853994e+00 -5.7004318e+00 -3.5484347e+00\n",
      "  -1.2265083e+00 -1.1561189e+00  1.7198263e-07 -2.4109323e+00\n",
      "  -2.2265079e+00]\n",
      " [-9.4266586e+00 -4.2853994e+00 -5.7004318e+00 -3.5484347e+00\n",
      "  -1.2265083e+00 -1.1561189e+00  1.7198263e-07 -2.4109323e+00\n",
      "  -2.2265079e+00]], shape=(2, 9), dtype=float32)\n"
     ]
    },
    {
     "data": {
      "text/plain": [
       "<tf.Tensor: shape=(2, 9), dtype=float32, numpy=\n",
       "array([[ 0., -4.,  5.,  3.,  1., -1.,  0., -2.,  2.],\n",
       "       [ 0., -4.,  5.,  3.,  1., -1.,  0., -2.,  2.]], dtype=float32)>"
      ]
     },
     "execution_count": 14,
     "metadata": {},
     "output_type": "execute_result"
    }
   ],
   "source": [
    "lq=LQ(c,4)\n",
    "lq\n"
   ]
  },
  {
   "cell_type": "code",
   "execution_count": 9,
   "metadata": {},
   "outputs": [
    {
     "data": {
      "text/plain": [
       "<tf.Tensor: shape=(), dtype=int32, numpy=2>"
      ]
     },
     "execution_count": 9,
     "metadata": {},
     "output_type": "execute_result"
    }
   ],
   "source": [
    "tf.shape(c)[0]"
   ]
  },
  {
   "cell_type": "code",
   "execution_count": 4,
   "metadata": {},
   "outputs": [],
   "source": [
    "def bitshift(weight,shift):\n",
    "   res=0\n",
    "   if shift<0:\n",
    "       y=np.abs(shift)\n",
    "       res= weight>>shift\n",
    "   else:\n",
    "        res= weight<<shift\n",
    "   def grad(dy):\n",
    "       dw=2**shift*dy\n",
    "       ds=2**shift*weight*tf.math.log(2)*dy\n",
    "       return dw,ds\n",
    "   return res,grad"
   ]
  },
  {
   "cell_type": "code",
   "execution_count": 2,
   "metadata": {},
   "outputs": [],
   "source": [
    "def bitshift2(weight,shift):\n",
    "    if shift<0:\n",
    "       y=tf.math.abs(shift)\n",
    "       return tf.bitwise.right_shift(weight,shift)\n",
    "    else:\n",
    "       return tf.bitwise.left_shift(weight,shift)\n"
   ]
  },
  {
   "cell_type": "code",
   "execution_count": 3,
   "metadata": {},
   "outputs": [],
   "source": [
    "def MatrixBitShift(A,B):\n",
    "    A=tf.cast(A,tf.int32)\n",
    "    B=tf.cast(B,tf.int32)\n",
    "    columns2=tf.shape(B)[1]\n",
    "    rows2=tf.shape(B)[0]\n",
    "    rows1=tf.shape(A)[0]\n",
    "    C=tf.zeros(shape=(rows1,columns2),dtype=tf.int32)\n",
    "    for i in range(0,rows1):\n",
    "      for j in range(0,rows2):\n",
    "            for  k in range(0,columns2):\n",
    "                original=C[i][k]\n",
    "                a=A[i][j]\n",
    "                b=B[j][k]\n",
    "                x=bitshift2(a,b)\n",
    "                #print(x)\n",
    "                update=original+x\n",
    "                \n",
    "                index=tf.constant([[i,k]])\n",
    "                #u=tf.constant([update],dtype=tf.int32)\n",
    "                C=tf.tensor_scatter_nd_update(C,index,[update])\n",
    "    \n",
    "    return C\n",
    "    "
   ]
  },
  {
   "cell_type": "code",
   "execution_count": 6,
   "metadata": {},
   "outputs": [
    {
     "name": "stdout",
     "output_type": "stream",
     "text": [
      "tf.Tensor(\n",
      "[[14 14 14]\n",
      " [14 14 14]], shape=(2, 3), dtype=int32)\n"
     ]
    }
   ],
   "source": [
    "tensor = tf.constant([[1, 1, 2, 3],[1,1,2,3]])\n",
    "tens2=tf.constant([[1,1,1],[1,1,1],[1,1,1],[1,1,1]])\n",
    "C=MatrixBitShift(tensor,tens2)\n",
    "print(C)\n",
    "#print(tensor[0][1])"
   ]
  },
  {
   "cell_type": "code",
   "execution_count": 4,
   "metadata": {},
   "outputs": [],
   "source": [
    "import os \n",
    "os.chdir(\"Air Dataset\")"
   ]
  },
  {
   "cell_type": "code",
   "execution_count": 6,
   "metadata": {},
   "outputs": [],
   "source": [
    "x=np.ones(1024, dtype=int)\n",
    "with open('dense_biases.txt', 'w') as cf:\n",
    "       np.savetxt(cf,x,delimiter=\" \",fmt=\"%d\")\n"
   ]
  },
  {
   "cell_type": "code",
   "execution_count": 23,
   "metadata": {},
   "outputs": [],
   "source": []
  },
  {
   "cell_type": "code",
   "execution_count": 7,
   "metadata": {},
   "outputs": [],
   "source": [
    "def float_to_fixed_16bit_q15(value):\n",
    "    # Define the scaling factor for Q0.15 format (15 fractional bits)\n",
    "    scaling_factor = 2 ** 31\n",
    "    \n",
    "    # Scale the floating-point value\n",
    "    scaled_value = int(round(value * scaling_factor))\n",
    "    \n",
    "    # Define the range for a 16-bit signed integer in Q0.15 format\n",
    "    min_val = -(2 ** 31)\n",
    "    max_val = (2 ** 31) - 1\n",
    "    \n",
    "     #Clamp the value to fit within the 16-bit signed integer range\n",
    "    \n",
    "    if scaled_value < min_val:\n",
    "        scaled_value = min_val\n",
    "    elif scaled_value > max_val:\n",
    "        scaled_value = max_val\n",
    "    \n",
    "    return scaled_value\n"
   ]
  },
  {
   "cell_type": "code",
   "execution_count": 8,
   "metadata": {},
   "outputs": [
    {
     "data": {
      "text/plain": [
       "8421505"
      ]
     },
     "execution_count": 8,
     "metadata": {},
     "output_type": "execute_result"
    }
   ],
   "source": [
    "float_value = 1/255\n",
    "fixed_value_q15 = float_to_fixed_16bit_q15(float_value)\n",
    "fixed_value_q15\n"
   ]
  }
 ],
 "metadata": {
  "kernelspec": {
   "display_name": "Python 3",
   "language": "python",
   "name": "python3"
  },
  "language_info": {
   "codemirror_mode": {
    "name": "ipython",
    "version": 3
   },
   "file_extension": ".py",
   "mimetype": "text/x-python",
   "name": "python",
   "nbconvert_exporter": "python",
   "pygments_lexer": "ipython3",
   "version": "3.12.3"
  }
 },
 "nbformat": 4,
 "nbformat_minor": 2
}
